{
 "cells": [
  {
   "cell_type": "markdown",
   "id": "d75c0957",
   "metadata": {},
   "source": [
    "# Decision making under uncertainty"
   ]
  },
  {
   "cell_type": "markdown",
   "id": "59fa1d70",
   "metadata": {},
   "source": [
    "In this lecture, you learned about how the Markov decision process (MDP) framework can be extended to allow uncertainty about the states. This can be used to model a wide range of decision-making problems where there is uncertainty or noise associated with the state of the world.\n",
    "\n",
    "We considered the example of the random dot motion discrimination task, where a subject must indicate the direction in which the majority of dots are moving. In this assignment, you will solve a two-stage formulation of this task, where the decision-maker can either make an immediate decision (i.e., at the first stage) on the basis of initial information, or choose to wait and gather further information before making their choice (i.e., at the second stage). The complete description of the problem can be found in the lecture slides and also in the original paper: http://www.gatsby.ucl.ac.uk/~dayan/papers/NDM002wc.pdf\n",
    "\n",
    "Your task is to reproduce the plots from Figure 9 of the paper, interpret the results, and explain the steps of the solution."
   ]
  },
  {
   "cell_type": "code",
   "execution_count": 41,
   "id": "674afc92",
   "metadata": {},
   "outputs": [],
   "source": [
    "import numpy as np\n",
    "import matplotlib.pyplot as plt\n",
    "import scipy.stats"
   ]
  },
  {
   "cell_type": "markdown",
   "id": "258c9a53",
   "metadata": {},
   "source": [
    "## 0. Define the parameters of the model (0.5 pts)"
   ]
  },
  {
   "cell_type": "code",
   "execution_count": 42,
   "id": "83efb985",
   "metadata": {},
   "outputs": [],
   "source": [
    "# INSERT CODE HERE\n",
    "mu1 = 6\n",
    "mu2 = 4\n",
    "sigma = 1\n",
    "r_c = -0.1\n",
    "r_3 = [1,0]\n",
    "r_4 = [0,1]\n",
    "r_1 = [1,0]\n",
    "r_2 = [0,1]\n"
   ]
  },
  {
   "cell_type": "markdown",
   "id": "a054a333",
   "metadata": {},
   "source": [
    "## 1. Updating the belief state  (2.5 pts)\n",
    "The actual direction of motion ('state') is not completely observable to the subject. Hence, the subject can only rely on observations to compute the *belief* that the direction of motion is left or right (this is the posterior probability or 'belief state'). "
   ]
  },
  {
   "cell_type": "markdown",
   "id": "469a4601",
   "metadata": {},
   "source": [
    "### 1a. Write a function that will calculate this posterior given the prior belief and an observation (the belief update). (0.5 pt)"
   ]
  },
  {
   "cell_type": "code",
   "execution_count": 226,
   "id": "2b6003ee",
   "metadata": {},
   "outputs": [],
   "source": [
    "# INSERT CODE BELOW\n",
    "def belief_state(c=0):\n",
    "    p_c_given_x1 = scipy.stats.norm.pdf(c,loc=mu1,scale=sigma)\n",
    "    p_c_given_x2 = scipy.stats.norm.pdf(c,loc=mu2,scale=sigma)\n",
    "    \n",
    "    p_x1_given_c = (0.5* p_c_given_x1) / (0.5*p_c_given_x1 + 0.5*p_c_given_x2)\n",
    "    p_x2_given_c = (0.5*p_c_given_x2) / (0.5*p_c_given_x1 + 0.5*p_c_given_x2)\n",
    "    \n",
    "\n",
    "    return p_x1_given_c, p_x2_given_c"
   ]
  },
  {
   "cell_type": "markdown",
   "id": "04e6c533",
   "metadata": {},
   "source": [
    "### 1b. Use this function to update the belief on the first observation at step $\\beta$ and reproduce Fig 9A.  Interpret the plot. (1 pt)"
   ]
  },
  {
   "cell_type": "code",
   "execution_count": 227,
   "id": "eb7ef835",
   "metadata": {},
   "outputs": [
    {
     "data": {
      "image/png": "[encoded data removed]",
      "text/plain": [
       "<Figure size 432x288 with 1 Axes>"
      ]
     },
     "metadata": {
      "needs_background": "light"
     },
     "output_type": "display_data"
    }
   ],
   "source": [
    "# INSERT CODE BELOW\n",
    "cs = np.linspace(0,10,101)\n",
    "\n",
    "beliefs = np.zeros(shape=(101,2))\n",
    "for c in range(cs.shape[0]):\n",
    "    beliefs[c,:] = belief_state(cs[c])\n",
    "plt.plot(cs, beliefs[:,0])\n",
    "plt.plot(cs, beliefs[:,1]);\n"
   ]
  },
  {
   "cell_type": "markdown",
   "id": "3b0561b6",
   "metadata": {},
   "source": [
    "INSERT ANSWER BELOW"
   ]
  },
  {
   "cell_type": "markdown",
   "id": "939f6949",
   "metadata": {},
   "source": [
    "### 1c. Write a function to update the belief on observing another sample at step $\\alpha$ and reproduce Fig 9B.  Interpret the plot. (1 pt)\n",
    "Hint: You will have to calculate this probability for every possible pair of observations."
   ]
  },
  {
   "cell_type": "code",
   "execution_count": 290,
   "id": "4df4ce88",
   "metadata": {},
   "outputs": [],
   "source": [
    "# INSERT CODE BELOW\n",
    "def update_belief_state_alpha(c_alpha, c_beta):\n",
    "\n",
    "    p_c_alpha_given_x1 = scipy.stats.norm(loc=mu1,scale=sigma).pdf(c_alpha)\n",
    "    p_c_alpha_given_x2 = scipy.stats.norm(loc=mu2,scale=sigma).pdf(c_alpha)\n",
    "    p_c_beta_given_x3 = scipy.stats.norm(loc=mu1,scale=sigma).pdf(c_beta)\n",
    "    p_c_beta_given_x4 = scipy.stats.norm(loc=mu2,scale=sigma).pdf(c_beta)\n",
    "    \n",
    "    p_x1_given_c_a_c_b_x3 =  p_c_alpha_given_x1 *p_c_beta_given_x3 #* p_x3_given_c_beta\n",
    "    p_x2_given_c_a_c_b_x4 =  p_c_alpha_given_x2 *p_c_beta_given_x4 #* p_x4_given_c_beta\n",
    "\n",
    "    p_x1_given_c_a_c_b = p_x1_given_c_a_c_b_x3 / (p_x1_given_c_a_c_b_x3  + p_x2_given_c_a_c_b_x4)\n",
    "    return p_x1_given_c_a_c_b"
   ]
  },
  {
   "cell_type": "code",
   "execution_count": 345,
   "id": "8186c5b0",
   "metadata": {},
   "outputs": [],
   "source": [
    "n = 101\n",
    "cs = np.linspace(0,10,n)\n",
    "\n",
    "beliefs = np.zeros(shape=(n,n))\n",
    "for c_beta in range(cs.shape[0]):\n",
    "    for c_alpha in range(cs.shape[0]):\n",
    "        beliefs[c_beta,c_alpha] = update_belief_state_alpha(c_alpha=cs[c_alpha], c_beta=cs[c_beta])\n",
    "\n"
   ]
  },
  {
   "cell_type": "code",
   "execution_count": 346,
   "id": "3ba57338",
   "metadata": {},
   "outputs": [
    {
     "data": {
      "image/png": "[encoded data removed]",
      "text/plain": [
       "<Figure size 432x288 with 1 Axes>"
      ]
     },
     "metadata": {
      "needs_background": "light"
     },
     "output_type": "display_data"
    }
   ],
   "source": [
    "plt.imshow(beliefs, cmap='hot')\n",
    "ticks = np.linspace(0,10,6)\n",
    "plt.xticks(ticks*(n//10), ticks)\n",
    "plt.yticks(ticks*(n//10), ticks)\n",
    "plt.show()"
   ]
  },
  {
   "cell_type": "markdown",
   "id": "23c38a31",
   "metadata": {},
   "source": [
    "INSERT ANSWER BELOW"
   ]
  },
  {
   "cell_type": "markdown",
   "id": "ac26df74",
   "metadata": {},
   "source": [
    "## 2. Solving for the optimal actions (7 pts)\n",
    "Now that we have a way to update the belief states, we can use them to determine the best course of action at each of the steps (the 'optimal policy'). "
   ]
  },
  {
   "cell_type": "markdown",
   "id": "eaf6d94c",
   "metadata": {},
   "source": [
    "### 2a. When finding the optimal policy, why does it make sense to calculate the best action at the final stage $\\alpha$, and work backwards? (1 pt)"
   ]
  },
  {
   "cell_type": "markdown",
   "id": "5506e7b5",
   "metadata": {},
   "source": [
    "INSERT ANSWER BELOW"
   ]
  },
  {
   "cell_type": "markdown",
   "id": "6197ff8e",
   "metadata": {},
   "source": [
    "### 2b. Write a function that will calculate the value of the best action at $\\alpha$ and reproduce Fig 9C. Explain what the plot shows. (1 pt)"
   ]
  },
  {
   "cell_type": "code",
   "execution_count": 638,
   "id": "2084ad75",
   "metadata": {},
   "outputs": [],
   "source": [
    "# INSERT CODE BELOW\n",
    "def value_at_alpha(posterior_x1, posterior_x2):\n",
    "    v_alpha = np.max((posterior_x1, posterior_x2), axis=0)\n",
    "    return v_alpha"
   ]
  },
  {
   "cell_type": "code",
   "execution_count": 650,
   "id": "8465f814",
   "metadata": {},
   "outputs": [],
   "source": [
    "n = 101\n",
    "cs = np.linspace(0,10,n)\n",
    "\n",
    "beliefs = np.zeros(shape=(n,n))\n",
    "vs = np.zeros(shape=(n,n))\n",
    "for c_beta in range(cs.shape[0]):\n",
    "    for c_alpha in range(cs.shape[0]):\n",
    "        beliefs[c_beta,c_alpha] = update_belief_state_alpha(c_alpha=cs[c_alpha], c_beta=cs[c_beta])\n",
    "        vs[c_beta,c_alpha] = value_at_alpha(beliefs[c_beta,c_alpha], 1-beliefs[c_beta,c_alpha])\n",
    "\n"
   ]
  },
  {
   "cell_type": "code",
   "execution_count": 651,
   "id": "9a8e2062",
   "metadata": {},
   "outputs": [
    {
     "data": {
      "image/png": "[encoded data removed]",
      "text/plain": [
       "<Figure size 432x288 with 1 Axes>"
      ]
     },
     "metadata": {
      "needs_background": "light"
     },
     "output_type": "display_data"
    }
   ],
   "source": [
    "plt.imshow(vs, cmap='hot', vmin=0, vmax=1)\n",
    "ticks = np.linspace(0,10,6)\n",
    "plt.xticks(ticks*(n//10), ticks)\n",
    "plt.yticks(ticks*(n//10), ticks)\n",
    "plt.show()\n"
   ]
  },
  {
   "cell_type": "markdown",
   "id": "7ae95f04",
   "metadata": {},
   "source": [
    "INSERT ANSWER BELOW"
   ]
  },
  {
   "cell_type": "markdown",
   "id": "8961eae2",
   "metadata": {},
   "source": [
    "### 2c. Before finding the best action at $\\beta$, we have one more step to do. We need the values of the best actions at $\\alpha$ that we just calculated and the probability of observing $c_{\\alpha}$ given $c_{\\beta}$ ($P(c_{\\alpha} | c_{\\beta})$). Why? (1 pt)"
   ]
  },
  {
   "cell_type": "markdown",
   "id": "e4f7376a",
   "metadata": {},
   "source": [
    "INSERT ANSWER BELOW"
   ]
  },
  {
   "cell_type": "markdown",
   "id": "7702f664",
   "metadata": {},
   "source": [
    "### 2d. Write a function that will calculate $P(c_{\\alpha} | c_{\\beta})$ and reproduce Fig 9D. Explain how you calculated this probability and what the plot shows. (1 pt)\n",
    "Hint: You will have to marginalise the posteriors over the possible states."
   ]
  },
  {
   "cell_type": "code",
   "execution_count": 631,
   "id": "964e09dc",
   "metadata": {},
   "outputs": [],
   "source": [
    "# INSERT CODE BELOW\n",
    "def get_c_alpha_given_c_beta(c_alpha, c_beta):\n",
    "    p_c_alpha_given_x1 = scipy.stats.norm(loc=mu1,scale=sigma).pdf(c_alpha)\n",
    "    p_c_alpha_given_x2 = scipy.stats.norm(loc=mu2,scale=sigma).pdf(c_alpha)\n",
    "    p_c_beta_given_x3 = scipy.stats.norm(loc=mu1,scale=sigma).pdf(c_beta)\n",
    "    p_c_beta_given_x4 = scipy.stats.norm(loc=mu2,scale=sigma).pdf(c_beta)\n",
    "\n",
    "\n",
    "    prob_c_alpha_and_c_beta = p_c_alpha_given_x1 * p_c_beta_given_x3 + p_c_alpha_given_x2 * p_c_beta_given_x4\n",
    "    prob_c_beta = 0.5*(p_c_beta_given_x3 + p_c_beta_given_x4)\n",
    "    c_alpha_given_c_beta = prob_c_alpha_and_c_beta / prob_c_beta\n",
    "    return c_alpha_given_c_beta"
   ]
  },
  {
   "cell_type": "code",
   "execution_count": 632,
   "id": "67732efc",
   "metadata": {},
   "outputs": [],
   "source": [
    "n = 51\n",
    "cs = np.linspace(0,10,n)\n",
    "\n",
    "ps = np.zeros(shape=(n,n))\n",
    "for c_beta in range(cs.shape[0]):\n",
    "    for c_alpha in range(cs.shape[0]):\n",
    "        ps[c_beta,c_alpha] = get_c_alpha_given_c_beta(c_alpha=cs[c_alpha], c_beta=cs[c_beta])\n",
    "\n"
   ]
  },
  {
   "cell_type": "code",
   "execution_count": 633,
   "metadata": {},
   "outputs": [
    {
     "data": {
      "image/png": "[encoded data removed]",
      "text/plain": [
       "<Figure size 432x288 with 1 Axes>"
      ]
     },
     "metadata": {
      "needs_background": "light"
     },
     "output_type": "display_data"
    }
   ],
   "source": [
    "plt.imshow(ps, cmap='gray', vmin=0, vmax=1)\n",
    "ticks = np.linspace(0,10,6)\n",
    "plt.xticks(ticks*(n//10), ticks)\n",
    "plt.yticks(ticks*(n//10), ticks)\n",
    "plt.show()\n"
   ]
  },
  {
   "cell_type": "markdown",
   "id": "bc0d77a2",
   "metadata": {},
   "source": [
    "INSERT ANSWER BELOW"
   ]
  },
  {
   "cell_type": "markdown",
   "id": "fb2fa130",
   "metadata": {},
   "source": [
    "### 2e. We are now ready to find the best action at $\\beta$. Write a function that calculates the values associated with each of the actions and reproduce Fig 9E. What does the plot tell you about what the best action is at $\\beta$? (1 pt)\n",
    "Hint: For action C, you will have to numerically integrate over possible observations ${c_{\\alpha}}$ using the step size ($dc_{\\alpha}$) you defined on your Gaussian observation distribution. "
   ]
  },
  {
   "cell_type": "code",
   "execution_count": 685,
   "id": "b7e8a7d6",
   "metadata": {},
   "outputs": [],
   "source": [
    "# INSERT CODE BELOW\n",
    "def q_value_at_beta(c_beta):\n",
    "    qs = np.zeros(3)\n",
    "    ps_belief_state = belief_state(c_beta)\n",
    "    qs[0] = ps_belief_state[0] * r_3[0]\n",
    "    qs[1] = ps_belief_state[1] * r_4[1]\n",
    "    \n",
    "\n",
    "    return qs\n",
    "\n",
    "def integrate(c_alpha_values, c_beta, p_c_alpha_given_x1, p_c_alpha_given_x2):\n",
    "    beliefs = update_belief_state_alpha(c_alpha_values, c_beta)\n",
    "    value_at_alph = value_at_alpha(beliefs, 1-beliefs)\n",
    "    c_alpha_given_c_beta = get_c_alpha_given_c_beta(c_alpha_values, c_beta)\n",
    "    # print(value_at_alph)\n",
    "    # print((value_at_alph * p_c_alpha_given_x2 * c_alpha_given_c_beta).shape)\n",
    "\n",
    "\n",
    "    return value_at_alph * c_alpha_given_c_beta * p_c_alpha_given_x1 \n",
    "\n",
    "def integrate2(c_alpha_values, c_beta, p_c_alpha_given_x1, p_c_alpha_given_x2):\n",
    "    beliefs = update_belief_state_alpha(c_alpha_values, c_beta)\n",
    "    value_at_alph = value_at_alpha(beliefs, 1-beliefs)\n",
    "    c_alpha_given_c_beta = get_c_alpha_given_c_beta(c_alpha_values, c_beta)\n",
    "\n",
    "    return value_at_alph * c_alpha_given_c_beta* p_c_alpha_given_x2 \n",
    "\n",
    "def q_value_c_at_beta(c_beta):\n",
    "    # return q\n",
    "    lower_limit = 0\n",
    "    upper_limit = 10\n",
    "    step_size = 0.01\n",
    "    # Generate values for c_alpha\n",
    "    c_alpha_values = np.arange(lower_limit, upper_limit + step_size, step_size)\n",
    "    p_c_alpha_given_x1 = scipy.stats.norm(loc=mu1,scale=sigma).pdf(c_alpha_values)\n",
    "    p_c_alpha_given_x2 = scipy.stats.norm(loc=mu2,scale=sigma).pdf(c_alpha_values)\n",
    "    values1 = integrate(c_alpha_values, c_beta, p_c_alpha_given_x1, p_c_alpha_given_x2)\n",
    "    values2 = integrate2(c_alpha_values, c_beta, p_c_alpha_given_x1, p_c_alpha_given_x2)\n",
    "    # Perform numerical integration using the trapezoidal rule\n",
    "    integral_result = np.trapz(values1,c_alpha_values,step_size)\n",
    "    integral_result2 = np.trapz(values2, c_alpha_values,step_size)\n",
    "    print(integral_result, integral_result2)\n",
    "\n",
    "    return -0.1 + belief_state(c_beta)[0]*integral_result + belief_state(c_beta)[1]*integral_result2 #+ belief_state(c_beta)[0]*integral_result2 + belief_state(c_beta)[1]*integral_result\n",
    "\n"
   ]
  },
  {
   "cell_type": "code",
   "execution_count": 686,
   "id": "9a922221",
   "metadata": {},
   "outputs": [
    {
     "name": "stdout",
     "output_type": "stream",
     "text": [
      "0.20754432621214539 0.5641639661918008\n",
      "0.2075353969806567 0.5641396940219146\n",
      "0.2075180074406061 0.5640924242854384\n",
      "0.20748414602210447 0.5640003781473519\n",
      "0.20741823087726316 0.5638211829602024\n",
      "0.20729003969418702 0.5634724851356413\n",
      "0.20704152222572808 0.5627945523074633\n",
      "0.20656469741853917 0.5614788081882156\n"
     ]
    },
    {
     "name": "stdout",
     "output_type": "stream",
     "text": [
      "0.20567668918286114 0.5589338686545834\n",
      "0.20414200600844096 0.5540445580311321\n",
      "0.20191848486426572 0.5447775668596426\n",
      "0.1999916432207663 0.527679613348513\n",
      "0.20206047678438366 0.4977200493782208\n",
      "0.21604671666707015 0.4498678890492965\n",
      "0.2517459477294127 0.3841685024871726\n",
      "0.3117956074123133 0.3117956074123134\n",
      "0.38416850248717244 0.25174594772941283\n",
      "0.4498678890492964 0.2160467166670702\n",
      "0.4977200493782208 0.20206047678438366\n",
      "0.527679613348513 0.1999916432207663\n",
      "0.5447775668596424 0.20191848486426575\n",
      "0.5540445580311321 0.20414200600844096\n",
      "0.5589338686545832 0.20567668918286114\n",
      "0.5614788081882157 0.20656469741853917\n",
      "0.5627945523074633 0.20704152222572808\n",
      "0.5634724851356412 0.20729003969418702\n",
      "0.5638211829602026 0.20741823087726316\n",
      "0.564000378147352 0.2074841460221045\n",
      "0.5640924242854382 0.2075180074406061\n",
      "0.5641396940219146 0.20753539698065668\n",
      "0.5641639661918008 0.20754432621214539\n"
     ]
    }
   ],
   "source": [
    "n = 31\n",
    "cs = np.linspace(0,10,n)\n",
    "\n",
    "qs_beta = np.zeros(shape=(n,3))\n",
    "for c_beta in range(cs.shape[0]):\n",
    "    qs_beta[c_beta,] = q_value_at_beta(c_beta=cs[c_beta])\n",
    "    qs_beta[c_beta,2] = q_value_c_at_beta(c_beta=cs[c_beta])\n"
   ]
  },
  {
   "cell_type": "code",
   "execution_count": 687,
   "id": "c0b858d9",
   "metadata": {},
   "outputs": [
    {
     "data": {
      "text/plain": [
       "[<matplotlib.lines.Line2D at 0x15082130bb0>]"
      ]
     },
     "execution_count": 687,
     "metadata": {},
     "output_type": "execute_result"
    },
    {
     "data": {
      "image/png": "[encoded data removed]",
      "text/plain": [
       "<Figure size 432x288 with 1 Axes>"
      ]
     },
     "metadata": {
      "needs_background": "light"
     },
     "output_type": "display_data"
    }
   ],
   "source": [
    "plt.plot(cs, np.max(qs_beta[:,:2], axis=1))\n",
    "plt.plot(cs, qs_beta[:,2])"
   ]
  },
  {
   "cell_type": "markdown",
   "id": "aaab5dc5",
   "metadata": {},
   "source": [
    "INSERT ANSWER BELOW"
   ]
  },
  {
   "cell_type": "markdown",
   "id": "ea322104",
   "metadata": {},
   "source": [
    "### 2f. What will reduce (or increase) the range of observations at $\\beta$ where it is best to choose to wait for another observation (choosing C)? Can you tweak a parameter to do this and produce a plot similar to Fig 9E to show this? (2 pts)\n",
    "Hint: You will have to re-run the steps with this changed parameter. "
   ]
  },
  {
   "cell_type": "code",
   "execution_count": 688,
   "id": "54a932a0",
   "metadata": {},
   "outputs": [],
   "source": [
    "# INSERT CODE BELOW"
   ]
  },
  {
   "cell_type": "markdown",
   "id": "84ff6fd6",
   "metadata": {},
   "source": [
    "INSERT ANSWER BELOW"
   ]
  },
  {
   "cell_type": "code",
   "execution_count": null,
   "id": "e7565312",
   "metadata": {},
   "outputs": [],
   "source": []
  }
 ],
 "metadata": {
  "kernelspec": {
   "display_name": "Python 3 (ipykernel)",
   "language": "python",
   "name": "python3"
  },
  "language_info": {
   "codemirror_mode": {
    "name": "ipython",
    "version": 3
   },
   "file_extension": ".py",
   "mimetype": "text/x-python",
   "name": "python",
   "nbconvert_exporter": "python",
   "pygments_lexer": "ipython3",
   "version": "3.8.13"
  }
 },
 "nbformat": 4,
 "nbformat_minor": 5
}
