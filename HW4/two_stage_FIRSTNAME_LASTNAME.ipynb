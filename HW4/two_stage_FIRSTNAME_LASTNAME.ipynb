{
 "cells": [
  {
   "cell_type": "markdown",
   "id": "d75c0957",
   "metadata": {},
   "source": [
    "# Decision making under uncertainty"
   ]
  },
  {
   "cell_type": "markdown",
   "id": "59fa1d70",
   "metadata": {},
   "source": [
    "In this lecture, you learned about how the Markov decision process (MDP) framework can be extended to allow uncertainty about the states. This can be used to model a wide range of decision-making problems where there is uncertainty or noise associated with the state of the world.\n",
    "\n",
    "We considered the example of the random dot motion discrimination task, where a subject must indicate the direction in which the majority of dots are moving. In this assignment, you will solve a two-stage formulation of this task, where the decision-maker can either make an immediate decision (i.e., at the first stage) on the basis of initial information, or choose to wait and gather further information before making their choice (i.e., at the second stage). The complete description of the problem can be found in the lecture slides and also in the original paper: http://www.gatsby.ucl.ac.uk/~dayan/papers/NDM002wc.pdf\n",
    "\n",
    "Your task is to reproduce the plots from Figure 9 of the paper, interpret the results, and explain the steps of the solution."
   ]
  },
  {
   "cell_type": "code",
   "execution_count": null,
   "id": "674afc92",
   "metadata": {},
   "outputs": [],
   "source": [
    "import numpy as np\n",
    "import matplotlib.pyplot as plt"
   ]
  },
  {
   "cell_type": "markdown",
   "id": "258c9a53",
   "metadata": {},
   "source": [
    "## 0. Define the parameters of the model (0.5 pts)"
   ]
  },
  {
   "cell_type": "code",
   "execution_count": null,
   "id": "83efb985",
   "metadata": {},
   "outputs": [],
   "source": [
    "# INSERT CODE HERE"
   ]
  },
  {
   "cell_type": "markdown",
   "id": "a054a333",
   "metadata": {},
   "source": [
    "## 1. Updating the belief state  (2.5 pts)\n",
    "The actual direction of motion ('state') is not completely observable to the subject. Hence, the subject can only rely on observations to compute the *belief* that the direction of motion is left or right (this is the posterior probability or 'belief state'). "
   ]
  },
  {
   "cell_type": "markdown",
   "id": "469a4601",
   "metadata": {},
   "source": [
    "### 1a. Write a function that will calculate this posterior given the prior belief and an observation (the belief update). (0.5 pt)"
   ]
  },
  {
   "cell_type": "code",
   "execution_count": null,
   "id": "2b6003ee",
   "metadata": {},
   "outputs": [],
   "source": [
    "# INSERT CODE BELOW"
   ]
  },
  {
   "cell_type": "markdown",
   "id": "04e6c533",
   "metadata": {},
   "source": [
    "### 1b. Use this function to update the belief on the first observation at step $\\beta$ and reproduce Fig 9A.  Interpret the plot. (1 pt)"
   ]
  },
  {
   "cell_type": "code",
   "execution_count": null,
   "id": "eb7ef835",
   "metadata": {},
   "outputs": [],
   "source": [
    "# INSERT CODE BELOW"
   ]
  },
  {
   "cell_type": "markdown",
   "id": "3b0561b6",
   "metadata": {},
   "source": [
    "INSERT ANSWER BELOW"
   ]
  },
  {
   "cell_type": "markdown",
   "id": "939f6949",
   "metadata": {},
   "source": [
    "### 1c. Write a function to update the belief on observing another sample at step $\\alpha$ and reproduce Fig 9B.  Interpret the plot. (1 pt)\n",
    "Hint: You will have to calculate this probability for every possible pair of observations."
   ]
  },
  {
   "cell_type": "code",
   "execution_count": null,
   "id": "4df4ce88",
   "metadata": {},
   "outputs": [],
   "source": [
    "# INSERT CODE BELOW"
   ]
  },
  {
   "cell_type": "markdown",
   "id": "23c38a31",
   "metadata": {},
   "source": [
    "INSERT ANSWER BELOW"
   ]
  },
  {
   "cell_type": "markdown",
   "id": "ac26df74",
   "metadata": {},
   "source": [
    "## 2. Solving for the optimal actions (7 pts)\n",
    "Now that we have a way to update the belief states, we can use them to determine the best course of action at each of the steps (the 'optimal policy'). "
   ]
  },
  {
   "cell_type": "markdown",
   "id": "eaf6d94c",
   "metadata": {},
   "source": [
    "### 2a. When finding the optimal policy, why does it make sense to calculate the best action at the final stage $\\alpha$, and work backwards? (1 pt)"
   ]
  },
  {
   "cell_type": "markdown",
   "id": "5506e7b5",
   "metadata": {},
   "source": [
    "INSERT ANSWER BELOW"
   ]
  },
  {
   "cell_type": "markdown",
   "id": "6197ff8e",
   "metadata": {},
   "source": [
    "### 2b. Write a function that will calculate the value of the best action at $\\alpha$ and reproduce Fig 9C. Explain what the plot shows. (1 pt)"
   ]
  },
  {
   "cell_type": "code",
   "execution_count": null,
   "id": "2084ad75",
   "metadata": {},
   "outputs": [],
   "source": [
    "# INSERT CODE BELOW"
   ]
  },
  {
   "cell_type": "markdown",
   "id": "7ae95f04",
   "metadata": {},
   "source": [
    "INSERT ANSWER BELOW"
   ]
  },
  {
   "cell_type": "markdown",
   "id": "8961eae2",
   "metadata": {},
   "source": [
    "### 2c. Before finding the best action at $\\beta$, we have one more step to do. We need the values of the best actions at $\\alpha$ that we just calculated and the probability of observing $c_{\\alpha}$ given $c_{\\beta}$ ($P(c_{\\alpha} | c_{\\beta})$). Why? (1 pt)"
   ]
  },
  {
   "cell_type": "markdown",
   "id": "e4f7376a",
   "metadata": {},
   "source": [
    "INSERT ANSWER BELOW"
   ]
  },
  {
   "cell_type": "markdown",
   "id": "7702f664",
   "metadata": {},
   "source": [
    "### 2d. Write a function that will calculate $P(c_{\\alpha} | c_{\\beta})$ and reproduce Fig 9D. Explain how you calculated this probability and what the plot shows. (1 pt)\n",
    "Hint: You will have to marginalise the posteriors over the possible states."
   ]
  },
  {
   "cell_type": "code",
   "execution_count": null,
   "id": "964e09dc",
   "metadata": {},
   "outputs": [],
   "source": [
    "# INSERT CODE BELOW"
   ]
  },
  {
   "cell_type": "markdown",
   "id": "bc0d77a2",
   "metadata": {},
   "source": [
    "INSERT ANSWER BELOW"
   ]
  },
  {
   "cell_type": "markdown",
   "id": "fb2fa130",
   "metadata": {},
   "source": [
    "### 2e. We are now ready to find the best action at $\\beta$. Write a function that calculates the values associated with each of the actions and reproduce Fig 9E. What does the plot tell you about what the best action is at $\\beta$? (1 pt)\n",
    "Hint: For action C, you will have to numerically integrate over possible observations ${c_{\\alpha}}$ using the step size ($dc_{\\alpha}$) you defined on your Gaussian observation distribution. "
   ]
  },
  {
   "cell_type": "code",
   "execution_count": null,
   "id": "b7e8a7d6",
   "metadata": {},
   "outputs": [],
   "source": [
    "# INSERT CODE BELOW"
   ]
  },
  {
   "cell_type": "markdown",
   "id": "aaab5dc5",
   "metadata": {},
   "source": [
    "INSERT ANSWER BELOW"
   ]
  },
  {
   "cell_type": "markdown",
   "id": "ea322104",
   "metadata": {},
   "source": [
    "### 2f. What will reduce (or increase) the range of observations at $\\beta$ where it is best to choose to wait for another observation (choosing C)? Can you tweak a parameter to do this and produce a plot similar to Fig 9E to show this? (2 pts)\n",
    "Hint: You will have to re-run the steps with this changed parameter. "
   ]
  },
  {
   "cell_type": "code",
   "execution_count": null,
   "id": "54a932a0",
   "metadata": {},
   "outputs": [],
   "source": [
    "# INSERT CODE BELOW"
   ]
  },
  {
   "cell_type": "markdown",
   "id": "84ff6fd6",
   "metadata": {},
   "source": [
    "INSERT ANSWER BELOW"
   ]
  },
  {
   "cell_type": "code",
   "execution_count": null,
   "id": "e7565312",
   "metadata": {},
   "outputs": [],
   "source": []
  }
 ],
 "metadata": {
  "kernelspec": {
   "display_name": "Python 3 (ipykernel)",
   "language": "python",
   "name": "python3"
  },
  "language_info": {
   "codemirror_mode": {
    "name": "ipython",
    "version": 3
   },
   "file_extension": ".py",
   "mimetype": "text/x-python",
   "name": "python",
   "nbconvert_exporter": "python",
   "pygments_lexer": "ipython3",
   "version": "3.11.5"
  }
 },
 "nbformat": 4,
 "nbformat_minor": 5
}
